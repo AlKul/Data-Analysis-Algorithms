{
 "cells": [
  {
   "cell_type": "markdown",
   "id": "be2cb73c",
   "metadata": {},
   "source": [
    "# Дз 1: Градиентный спуск"
   ]
  },
  {
   "cell_type": "code",
   "execution_count": 1,
   "id": "1525684c",
   "metadata": {
    "colab": {},
    "colab_type": "code",
    "id": "ak8b3KV45kVW"
   },
   "outputs": [],
   "source": [
    "import numpy as np\n",
    "import matplotlib.pyplot as plt"
   ]
  },
  {
   "cell_type": "code",
   "execution_count": 2,
   "id": "2c70a265",
   "metadata": {
    "colab": {},
    "colab_type": "code",
    "id": "i77tZbAd5plB"
   },
   "outputs": [
    {
     "data": {
      "text/plain": [
       "array([[ 1,  1,  1,  1,  1,  1,  1,  1,  1,  1],\n",
       "       [ 1,  1,  2,  5,  3,  0,  5, 10,  1,  2]])"
      ]
     },
     "execution_count": 2,
     "metadata": {},
     "output_type": "execute_result"
    }
   ],
   "source": [
    "X = np.array([[1, 1, 1, 1, 1, 1, 1, 1, 1, 1],\n",
    "              [1, 1, 2, 5, 3, 0, 5, 10, 1, 2]])\n",
    "X"
   ]
  },
  {
   "cell_type": "code",
   "execution_count": 3,
   "id": "f3aa3259",
   "metadata": {
    "colab": {},
    "colab_type": "code",
    "id": "VsNrKi1Q6Wmh"
   },
   "outputs": [],
   "source": [
    "y = [45, 55, 50, 55, 60, 35, 75, 80, 50, 60]"
   ]
  },
  {
   "cell_type": "markdown",
   "id": "2a407179",
   "metadata": {
    "colab_type": "text",
    "id": "huXrhXQsZTMt"
   },
   "source": [
    "## 1. Подберите скорость обучения (alpha) и количество итераций"
   ]
  },
  {
   "cell_type": "markdown",
   "id": "6419c104",
   "metadata": {},
   "source": [
    "Ошибку в строке уже исправили. Мне остается только подобрать параметр"
   ]
  },
  {
   "cell_type": "code",
   "execution_count": 4,
   "id": "09b848cc",
   "metadata": {
    "colab": {},
    "colab_type": "code",
    "id": "JTSC2cFnCd8T"
   },
   "outputs": [],
   "source": [
    "def calc_mae(y, y_pred):\n",
    "    err = np.mean(np.abs(y - y_pred))\n",
    "    return err\n",
    "\n",
    "def calc_mse(y, y_pred):\n",
    "    err = np.mean((y - y_pred)**2) # <=> 1/n * np.sum((y_pred - y)**2)\n",
    "    return err"
   ]
  },
  {
   "cell_type": "code",
   "execution_count": 5,
   "id": "62ebed90",
   "metadata": {},
   "outputs": [],
   "source": [
    "def grad_desc(X, alpha):\n",
    "    n = X.shape[1]\n",
    "    W = np.array([1, 0.5])\n",
    "    \n",
    "    for i in range(100):\n",
    "        y_pred = np.dot(W, X)\n",
    "        err = calc_mse(y, y_pred)\n",
    "        for k in range(len(W)):\n",
    "            W[k] -= alpha * (1/n * 2 * np.sum(X[k] * (y_pred - y)))\n",
    "        if i % 10 == 0:\n",
    "            alpha /= 1.1\n",
    "    return W, err, alpha"
   ]
  },
  {
   "cell_type": "code",
   "execution_count": 6,
   "id": "cf3edd0c",
   "metadata": {
    "colab": {
     "base_uri": "https://localhost:8080/",
     "height": 185
    },
    "colab_type": "code",
    "id": "IDB22MQKMYaJ",
    "outputId": "4c03219e-a57c-4583-f439-6699fd0619bb"
   },
   "outputs": [
    {
     "name": "stdout",
     "output_type": "stream",
     "text": [
      "Number of objects = 10        \n",
      "Learning rate = 0.01        \n",
      "Initial weights = [1.  0.5] \n",
      "\n",
      "Iteration #0: W_new = [2.08 4.27], MSE = 3047.75\n",
      "Iteration #10: W_new = [ 6.67106886 10.61676385], MSE = 749.71\n",
      "Iteration #20: W_new = [ 9.49320908 10.25731657], MSE = 648.91\n",
      "Iteration #30: W_new = [11.85740092  9.83349244], MSE = 570.46\n",
      "Iteration #40: W_new = [13.86876921  9.46898661], MSE = 508.03\n",
      "Iteration #50: W_new = [15.59085668  9.15672679], MSE = 457.73\n",
      "Iteration #60: W_new = [17.07337653  8.88789585], MSE = 416.77\n",
      "Iteration #70: W_new = [18.35601294  8.65530964], MSE = 383.06\n",
      "Iteration #80: W_new = [19.47073522  8.45317196], MSE = 355.08\n",
      "Iteration #90: W_new = [20.44350656  8.27677488], MSE = 331.65\n"
     ]
    }
   ],
   "source": [
    "n = X.shape[1]\n",
    "alpha = 1e-2\n",
    "W = np.array([1, 0.5])\n",
    "print(f'Number of objects = {n} \\\n",
    "       \\nLearning rate = {alpha} \\\n",
    "       \\nInitial weights = {W} \\n')\n",
    "\n",
    "for i in range(100):\n",
    "    y_pred = np.dot(W, X)\n",
    "    err = calc_mse(y, y_pred)\n",
    "    for k in range(len(W)):\n",
    "        W[k] -= alpha * (1/n * 2 * np.sum(X[k] * (y_pred - y)))\n",
    "    if i % 10 == 0:\n",
    "        alpha /= 1.1\n",
    "        print(f'Iteration #{i}: W_new = {W}, MSE = {round(err,2)}')"
   ]
  },
  {
   "cell_type": "markdown",
   "id": "d3dcf065",
   "metadata": {},
   "source": [
    "__Задача:__ предсказание баллов ЕГЭ ученика в зависимости от кол-ва лет стажа его репетитора"
   ]
  },
  {
   "cell_type": "code",
   "execution_count": 7,
   "id": "57b2033a",
   "metadata": {},
   "outputs": [],
   "source": [
    "alpha_seq = np.arange(1., 1e-6, -0.001)\n",
    "result = {}\n",
    "W_i = []\n",
    "for alpha in alpha_seq:\n",
    "    W_i, res_i, alpha = grad_desc(X, alpha)\n",
    "    result[res_i] =  [W_i, alpha]\n",
    "\n"
   ]
  },
  {
   "cell_type": "markdown",
   "id": "1f55c764",
   "metadata": {},
   "source": [
    "### Ответ"
   ]
  },
  {
   "cell_type": "code",
   "execution_count": 8,
   "id": "f8380869",
   "metadata": {},
   "outputs": [
    {
     "name": "stdout",
     "output_type": "stream",
     "text": [
      "Best MSE: 43.98, \n",
      "W_best = [44.89700069  3.84196025]\n"
     ]
    }
   ],
   "source": [
    "MSE_best = min(result.keys())\n",
    "W_best = result[min(result.keys())][0]\n",
    "alpha_best = result[min(result.keys())][1]\n",
    "print(f'Best MSE: {round(MSE_best, 2 )}, \\nW_best = {W_best}')\n"
   ]
  },
  {
   "cell_type": "code",
   "execution_count": 9,
   "id": "36ba9b0f",
   "metadata": {},
   "outputs": [],
   "source": [
    "#y_pred = W_i @ X\n",
    "y_pred = W[0] * X[0] + W[1] * X[1]"
   ]
  },
  {
   "cell_type": "code",
   "execution_count": 10,
   "id": "0bb70a41",
   "metadata": {},
   "outputs": [
    {
     "data": {
      "text/plain": [
       "array([44.89700069,  3.84196025])"
      ]
     },
     "execution_count": 10,
     "metadata": {},
     "output_type": "execute_result"
    }
   ],
   "source": [
    "result[min(result.keys())][0]"
   ]
  },
  {
   "cell_type": "code",
   "execution_count": 11,
   "id": "27476245",
   "metadata": {
    "colab": {},
    "colab_type": "code",
    "id": "NntLxvtU7CbH"
   },
   "outputs": [],
   "source": [
    "y_pred1 = 35 * np.ones(10) + X[1]*5\n",
    "y_pred2 = 40 * np.ones(10) + X[1]*7.5\n",
    "\n",
    "y_pred3 = result[min(result.keys())][0][0] * X[0] + result[min(result.keys())][0][1] * X[1]"
   ]
  },
  {
   "cell_type": "code",
   "execution_count": 12,
   "id": "1a83c33e",
   "metadata": {},
   "outputs": [
    {
     "data": {
      "image/png": "[encoded data removed]",
      "text/plain": [
       "<Figure size 432x288 with 1 Axes>"
      ]
     },
     "metadata": {
      "needs_background": "light"
     },
     "output_type": "display_data"
    }
   ],
   "source": [
    "plt.scatter(X[1], y)\n",
    "plt.plot(X[1], y_pred1, label='1 - manual')\n",
    "plt.plot(X[1], y_pred2, label='2 - manual')\n",
    "plt.plot(X[1], y_pred3, label='3 - analytical solution')\n",
    "plt.plot(X[1], y_pred3, label=f'3 - Gradient Descent with alpha = {round(alpha_best, 2)}')\n",
    "plt.legend()\n",
    "plt.show()"
   ]
  },
  {
   "cell_type": "markdown",
   "id": "5298c6dd",
   "metadata": {},
   "source": []
  },
  {
   "cell_type": "markdown",
   "id": "bc8a8b2f",
   "metadata": {
    "colab_type": "text",
    "id": "5Qu1o4JhZYwI"
   },
   "source": [
    "## *2. В этом коде мы избавляемся от итераций по весам, но тут есть ошибка, исправьте ее"
   ]
  },
  {
   "cell_type": "code",
   "execution_count": 13,
   "id": "a4e35d43",
   "metadata": {
    "colab": {
     "base_uri": "https://localhost:8080/",
     "height": 185
    },
    "colab_type": "code",
    "id": "WZZzDCQLY4pA",
    "outputId": "28f58ade-72f2-4381-809d-2417752d56e4"
   },
   "outputs": [
    {
     "name": "stdout",
     "output_type": "stream",
     "text": [
      "Number of objects = 10        \n",
      "Learning rate = 0.04        \n",
      "Initial weights = [1.  0.5] \n",
      "\n",
      "Iteration #0: W_new = [ 5.32 15.58], MSE = 3047.75\n",
      "Iteration #10: W_new = [17.10326214  8.88299874], MSE = 440.56\n",
      "Iteration #20: W_new = [25.78123866  7.30885952], MSE = 232.58\n",
      "Iteration #30: W_new = [31.76579204  6.22365298], MSE = 133.67\n",
      "Iteration #40: W_new = [35.89284874  5.47527488], MSE = 86.63\n",
      "Iteration #50: W_new = [38.73894198  4.95917975], MSE = 64.26\n",
      "Iteration #60: W_new = [40.70165956  4.60327118], MSE = 53.62\n",
      "Iteration #70: W_new = [42.05518524  4.35783016], MSE = 48.56\n",
      "Iteration #80: W_new = [42.98860113  4.18856958], MSE = 46.15\n",
      "Iteration #90: W_new = [43.63230168  4.07184441], MSE = 45.01\n"
     ]
    }
   ],
   "source": [
    "n = X.shape[1]\n",
    "alpha = 0.04\n",
    "W = np.array([1, 0.5])\n",
    "print(f'Number of objects = {n} \\\n",
    "       \\nLearning rate = {alpha} \\\n",
    "       \\nInitial weights = {W} \\n')\n",
    "\n",
    "for i in range(100):\n",
    "    y_pred = np.dot(W, X)\n",
    "    err = calc_mse(y, y_pred)\n",
    "    #for k in range(W.shape[0]):\n",
    "    #     W[k] -= alpha * (1/n * 2 * np.sum(X[k] * (y_pred - y)))\n",
    "    W -= alpha * (1/n * 2 * X @ (y_pred - y).T)\n",
    "    W_pred = W\n",
    "    \n",
    "    if i % 10 == 0:\n",
    "        print(f'Iteration #{i}: W_new = {W}, MSE = {round(err,2)}')"
   ]
  },
  {
   "cell_type": "code",
   "execution_count": null,
   "id": "31329eee",
   "metadata": {},
   "outputs": [],
   "source": []
  },
  {
   "cell_type": "code",
   "execution_count": null,
   "id": "596a0945",
   "metadata": {},
   "outputs": [],
   "source": []
  },
  {
   "cell_type": "markdown",
   "id": "8e0edf3c",
   "metadata": {
    "colab_type": "text",
    "id": "5Qu1o4JhZYwI"
   },
   "source": [
    "## *3. Вместо того, чтобы задавать количество итераций, задайте условие остановки алгоритма - когда ошибка за итерацию начинает изменяться ниже определенного порога (упрощенный аналог параметра tol в линейной регрессии в sklearn)."
   ]
  },
  {
   "cell_type": "code",
   "execution_count": 14,
   "id": "681f60df",
   "metadata": {},
   "outputs": [
    {
     "data": {
      "text/plain": [
       "1"
      ]
     },
     "execution_count": 14,
     "metadata": {},
     "output_type": "execute_result"
    }
   ],
   "source": [
    "a = np.array([1, 1])\n",
    "b = np.array([0, 1])\n",
    "\n",
    "a@b"
   ]
  },
  {
   "cell_type": "code",
   "execution_count": 15,
   "id": "98a089df",
   "metadata": {
    "colab": {
     "base_uri": "https://localhost:8080/",
     "height": 185
    },
    "colab_type": "code",
    "id": "WZZzDCQLY4pA",
    "outputId": "28f58ade-72f2-4381-809d-2417752d56e4"
   },
   "outputs": [
    {
     "name": "stdout",
     "output_type": "stream",
     "text": [
      "Number of objects = 10        \n",
      "Learning rate = 0.04        \n",
      "Initial weights = [1.  0.5] \n",
      "\n",
      "Iteration #10: W_new = [16.0443793   9.07319509], MSE = 471.16\n",
      "Iteration #20: W_new = [25.05123363  7.44123447], MSE = 247.13\n",
      "Iteration #30: W_new = [31.26236734  6.31494128], MSE = 140.59\n",
      "Iteration #40: W_new = [35.54567792  5.53822895], MSE = 89.92\n",
      "Iteration #50: W_new = [38.49952668  5.00259402], MSE = 65.82\n",
      "Iteration #60: W_new = [40.53655442  4.63321045], MSE = 54.36\n",
      "Iteration #70: W_new = [41.94132574  4.37847683], MSE = 48.91\n",
      "Iteration #80: W_new = [42.91008155  4.2028079 ], MSE = 46.32\n",
      "Iteration #90: W_new = [43.57815315  4.08166341], MSE = 45.09\n",
      "Iteration #100: W_new = [44.03886746  3.99811998], MSE = 44.5\n",
      "Iteration #110: W_new = [44.35658441  3.94050691], MSE = 44.22\n",
      "Iteration #120: W_new = [44.57568779  3.90077589], MSE = 44.09\n",
      "Iteration #130: W_new = [44.72678546  3.87337666], MSE = 44.03\n",
      "Iteration #140: W_new = [44.83098516  3.85448165], MSE = 44.0\n",
      "Iteration #150: W_new = [44.90284316  3.84145131], MSE = 43.98\n",
      "Iteration #160: W_new = [44.95239774  3.83246535], MSE = 43.97\n",
      "Iteration #170: W_new = [44.98657149  3.82626847], MSE = 43.97\n",
      "Iteration #180: W_new = [45.01013832  3.82199498], MSE = 43.97\n",
      "Iteration #190: W_new = [45.02639043  3.81904791], MSE = 43.97\n",
      "Iteration #200: W_new = [45.03759819  3.81701556], MSE = 43.97\n",
      "Iteration #210: W_new = [45.04532726  3.81561401], MSE = 43.97\n",
      "Iteration #220: W_new = [45.05065736  3.81464748], MSE = 43.97\n",
      "Iteration #230: W_new = [45.0543331   3.81398094], MSE = 43.97\n",
      "Iteration #240: W_new = [45.05686796  3.81352128], MSE = 43.97\n",
      "Iteration #250: W_new = [45.05861604  3.8132043 ], MSE = 43.97\n",
      "Iteration #260: W_new = [45.05982155  3.8129857 ], MSE = 43.97\n",
      "Iteration #270: W_new = [45.06065289  3.81283494], MSE = 43.97\n",
      "Iteration #280: W_new = [45.0612262   3.81273098], MSE = 43.97\n",
      "Iteration #290: W_new = [45.06162157  3.81265929], MSE = 43.97\n",
      "Iteration #300: W_new = [45.06189422  3.81260985], MSE = 43.97\n",
      "Stopped on step: 305       W = [45.06199694  3.81259122] \n",
      "W_new = [45.06199694  3.81259122], ++++ MSE = 43.97 ++++\n"
     ]
    }
   ],
   "source": [
    "n = X.shape[1]\n",
    "alpha = 0.04\n",
    "eps = 1e-16\n",
    "W = np.array([1., 0.5])\n",
    "err_prev = 0.\n",
    "print(f'Number of objects = {n} \\\n",
    "       \\nLearning rate = {alpha} \\\n",
    "       \\nInitial weights = {W} \\n')\n",
    "i = 0\n",
    "#for i in range(100):\n",
    "while (1):\n",
    "    i += 1\n",
    "    y_pred = np.dot(W, X)\n",
    "    err = calc_mse(y, y_pred)\n",
    "    W -= alpha * (1/n * 2 * X @ (y_pred - y).T)\n",
    "    if np.mean((err-err_prev)**2) <= eps:\n",
    "        print(f'Stopped on step: {i:<10}W = {W} \\nW_new = {W}, ++++ MSE = {round(err,2)} ++++')\n",
    "        break\n",
    "    err_prev = err\n",
    "    W_pred = W\n",
    "    \n",
    "    \n",
    "    \n",
    "    if i % 10 == 0:\n",
    "        print(f'Iteration #{i}: W_new = {W}, MSE = {round(err,2)}')"
   ]
  },
  {
   "cell_type": "markdown",
   "id": "6d76fa23",
   "metadata": {},
   "source": [
    "## Выводы\n",
    "\n",
    "* $\\alpha$ был подобран итеративно, и выбран лучший вариант $\\Rightarrow$ уже есть улучшение\n",
    "* Уточнение изменения ошибки привело к лучшему результату. Здесь все ок, но надо приучить себя и по кол-вам итерации тоже ограничить\n",
    "* В вашем коде alpha через каждые 10 итераций уменьшается в 1.1 раз, для меня интуитивно это кажется разумным, но в последних вычислениях лишь портит результат. Тогда вопрос: как разумнее этот коэффициент подбирать?\n",
    "* Начальное W тоже пытался менять, но на ответе не сказалось: оно и логично - имеем дело с квадратичной функцией с одним локальным минимумом, верно?"
   ]
  },
  {
   "cell_type": "markdown",
   "id": "f37b5744",
   "metadata": {},
   "source": []
  }
 ],
 "metadata": {
  "kernelspec": {
   "display_name": "Python 3 (ipykernel)",
   "language": "python",
   "name": "python3"
  },
  "language_info": {
   "codemirror_mode": {
    "name": "ipython",
    "version": 3
   },
   "file_extension": ".py",
   "mimetype": "text/x-python",
   "name": "python",
   "nbconvert_exporter": "python",
   "pygments_lexer": "ipython3",
   "version": "3.9.7"
  }
 },
 "nbformat": 4,
 "nbformat_minor": 5
}
